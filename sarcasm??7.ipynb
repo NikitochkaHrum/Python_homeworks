{
 "cells": [
  {
   "cell_type": "code",
   "execution_count": 3,
   "id": "opponent-cleveland",
   "metadata": {},
   "outputs": [],
   "source": [
    "import os\n",
    "import numpy as np\n",
    "import pandas as pd\n",
    "from sklearn.feature_extraction.text import TfidfVectorizer\n",
    "from sklearn.linear_model import LogisticRegression\n",
    "from sklearn.pipeline import Pipeline\n",
    "from sklearn.model_selection import train_test_split\n",
    "from sklearn.metrics import accuracy_score, confusion_matrix\n",
    "import seaborn as sns\n",
    "from matplotlib import pyplot as plt"
   ]
  },
  {
   "cell_type": "code",
   "execution_count": 4,
   "id": "polished-diploma",
   "metadata": {},
   "outputs": [],
   "source": [
    "train_df = pd.read_csv('train-balanced-sarcasm.csv')"
   ]
  },
  {
   "cell_type": "code",
   "execution_count": 5,
   "id": "institutional-hearing",
   "metadata": {
    "scrolled": true
   },
   "outputs": [
    {
     "data": {
      "text/html": [
       "<div>\n",
       "<style scoped>\n",
       "    .dataframe tbody tr th:only-of-type {\n",
       "        vertical-align: middle;\n",
       "    }\n",
       "\n",
       "    .dataframe tbody tr th {\n",
       "        vertical-align: top;\n",
       "    }\n",
       "\n",
       "    .dataframe thead th {\n",
       "        text-align: right;\n",
       "    }\n",
       "</style>\n",
       "<table border=\"1\" class=\"dataframe\">\n",
       "  <thead>\n",
       "    <tr style=\"text-align: right;\">\n",
       "      <th></th>\n",
       "      <th>label</th>\n",
       "      <th>comment</th>\n",
       "      <th>author</th>\n",
       "      <th>subreddit</th>\n",
       "      <th>score</th>\n",
       "      <th>ups</th>\n",
       "      <th>downs</th>\n",
       "      <th>date</th>\n",
       "      <th>created_utc</th>\n",
       "      <th>parent_comment</th>\n",
       "    </tr>\n",
       "  </thead>\n",
       "  <tbody>\n",
       "    <tr>\n",
       "      <th>0</th>\n",
       "      <td>0</td>\n",
       "      <td>NC and NH.</td>\n",
       "      <td>Trumpbart</td>\n",
       "      <td>politics</td>\n",
       "      <td>2</td>\n",
       "      <td>-1</td>\n",
       "      <td>-1</td>\n",
       "      <td>2016-10</td>\n",
       "      <td>2016-10-16 23:55:23</td>\n",
       "      <td>Yeah, I get that argument. At this point, I'd ...</td>\n",
       "    </tr>\n",
       "    <tr>\n",
       "      <th>1</th>\n",
       "      <td>0</td>\n",
       "      <td>You do know west teams play against west teams...</td>\n",
       "      <td>Shbshb906</td>\n",
       "      <td>nba</td>\n",
       "      <td>-4</td>\n",
       "      <td>-1</td>\n",
       "      <td>-1</td>\n",
       "      <td>2016-11</td>\n",
       "      <td>2016-11-01 00:24:10</td>\n",
       "      <td>The blazers and Mavericks (The wests 5 and 6 s...</td>\n",
       "    </tr>\n",
       "    <tr>\n",
       "      <th>2</th>\n",
       "      <td>0</td>\n",
       "      <td>They were underdogs earlier today, but since G...</td>\n",
       "      <td>Creepeth</td>\n",
       "      <td>nfl</td>\n",
       "      <td>3</td>\n",
       "      <td>3</td>\n",
       "      <td>0</td>\n",
       "      <td>2016-09</td>\n",
       "      <td>2016-09-22 21:45:37</td>\n",
       "      <td>They're favored to win.</td>\n",
       "    </tr>\n",
       "    <tr>\n",
       "      <th>3</th>\n",
       "      <td>0</td>\n",
       "      <td>This meme isn't funny none of the \"new york ni...</td>\n",
       "      <td>icebrotha</td>\n",
       "      <td>BlackPeopleTwitter</td>\n",
       "      <td>-8</td>\n",
       "      <td>-1</td>\n",
       "      <td>-1</td>\n",
       "      <td>2016-10</td>\n",
       "      <td>2016-10-18 21:03:47</td>\n",
       "      <td>deadass don't kill my buzz</td>\n",
       "    </tr>\n",
       "    <tr>\n",
       "      <th>4</th>\n",
       "      <td>0</td>\n",
       "      <td>I could use one of those tools.</td>\n",
       "      <td>cush2push</td>\n",
       "      <td>MaddenUltimateTeam</td>\n",
       "      <td>6</td>\n",
       "      <td>-1</td>\n",
       "      <td>-1</td>\n",
       "      <td>2016-12</td>\n",
       "      <td>2016-12-30 17:00:13</td>\n",
       "      <td>Yep can confirm I saw the tool they use for th...</td>\n",
       "    </tr>\n",
       "  </tbody>\n",
       "</table>\n",
       "</div>"
      ],
      "text/plain": [
       "   label                                            comment     author  \\\n",
       "0      0                                         NC and NH.  Trumpbart   \n",
       "1      0  You do know west teams play against west teams...  Shbshb906   \n",
       "2      0  They were underdogs earlier today, but since G...   Creepeth   \n",
       "3      0  This meme isn't funny none of the \"new york ni...  icebrotha   \n",
       "4      0                    I could use one of those tools.  cush2push   \n",
       "\n",
       "            subreddit  score  ups  downs     date          created_utc  \\\n",
       "0            politics      2   -1     -1  2016-10  2016-10-16 23:55:23   \n",
       "1                 nba     -4   -1     -1  2016-11  2016-11-01 00:24:10   \n",
       "2                 nfl      3    3      0  2016-09  2016-09-22 21:45:37   \n",
       "3  BlackPeopleTwitter     -8   -1     -1  2016-10  2016-10-18 21:03:47   \n",
       "4  MaddenUltimateTeam      6   -1     -1  2016-12  2016-12-30 17:00:13   \n",
       "\n",
       "                                      parent_comment  \n",
       "0  Yeah, I get that argument. At this point, I'd ...  \n",
       "1  The blazers and Mavericks (The wests 5 and 6 s...  \n",
       "2                            They're favored to win.  \n",
       "3                         deadass don't kill my buzz  \n",
       "4  Yep can confirm I saw the tool they use for th...  "
      ]
     },
     "execution_count": 5,
     "metadata": {},
     "output_type": "execute_result"
    }
   ],
   "source": [
    "train_df.head()"
   ]
  },
  {
   "cell_type": "code",
   "execution_count": 6,
   "id": "industrial-scholarship",
   "metadata": {},
   "outputs": [],
   "source": [
    "train_df.dropna(subset=['comment'], inplace=True)"
   ]
  },
  {
   "cell_type": "code",
   "execution_count": 7,
   "id": "headed-beast",
   "metadata": {},
   "outputs": [
    {
     "data": {
      "text/plain": [
       "0                                                 NC and NH.\n",
       "1          You do know west teams play against west teams...\n",
       "2          They were underdogs earlier today, but since G...\n",
       "3          This meme isn't funny none of the \"new york ni...\n",
       "4                            I could use one of those tools.\n",
       "                                 ...                        \n",
       "1010821    I'm sure that Iran and N. Korea have the techn...\n",
       "1010822                   whatever you do, don't vote green!\n",
       "1010823    Perhaps this is an atheist conspiracy to make ...\n",
       "1010824    The Slavs got their own country - it is called...\n",
       "1010825    values, as in capitalism .. there is good mone...\n",
       "Name: comment, Length: 1010773, dtype: object"
      ]
     },
     "execution_count": 7,
     "metadata": {},
     "output_type": "execute_result"
    }
   ],
   "source": [
    "train_df.comment"
   ]
  },
  {
   "cell_type": "code",
   "execution_count": 8,
   "id": "given-rachel",
   "metadata": {},
   "outputs": [],
   "source": [
    "train_texts, valid_texts, y_train, y_valid = \\\n",
    "        train_test_split(train_df['comment'], train_df['label'], train_size=0.025, test_size = 0.025, random_state=17)"
   ]
  },
  {
   "cell_type": "code",
   "execution_count": 9,
   "id": "characteristic-brick",
   "metadata": {
    "scrolled": true
   },
   "outputs": [
    {
     "data": {
      "text/plain": [
       "760955        Noo God chose it for her, she's just obeying.\n",
       "513711    Good job correcting him there chief, totally i...\n",
       "795973    And to think Collinwood is such a nice area now !\n",
       "983010     What's the point of not going into a STEM field?\n",
       "302546    LPT: if someone's name is Fred Allen Gerhart, ...\n",
       "                                ...                        \n",
       "333650    Except for not giving you achievments and not ...\n",
       "824809       They might as well offer tent DLC for camping.\n",
       "686912                           Yeah he still sucks though\n",
       "230828                                      Knuckle Dragger\n",
       "718629    What if all the stars aligned no particular wa...\n",
       "Name: comment, Length: 25269, dtype: object"
      ]
     },
     "execution_count": 9,
     "metadata": {},
     "output_type": "execute_result"
    }
   ],
   "source": [
    "train_texts"
   ]
  },
  {
   "cell_type": "code",
   "execution_count": 10,
   "id": "boring-mitchell",
   "metadata": {},
   "outputs": [
    {
     "data": {
      "text/plain": [
       "760955    1\n",
       "513711    1\n",
       "795973    1\n",
       "983010    1\n",
       "302546    0\n",
       "         ..\n",
       "333650    0\n",
       "824809    1\n",
       "686912    1\n",
       "230828    1\n",
       "718629    1\n",
       "Name: label, Length: 25269, dtype: int64"
      ]
     },
     "execution_count": 10,
     "metadata": {},
     "output_type": "execute_result"
    }
   ],
   "source": [
    "y_train"
   ]
  },
  {
   "cell_type": "code",
   "execution_count": 11,
   "id": "welsh-despite",
   "metadata": {},
   "outputs": [],
   "source": [
    "tfidf = TfidfVectorizer()"
   ]
  },
  {
   "cell_type": "code",
   "execution_count": 12,
   "id": "veterinary-constant",
   "metadata": {},
   "outputs": [],
   "source": [
    "bag_of_words = tfidf.fit_transform(train_texts)"
   ]
  },
  {
   "cell_type": "code",
   "execution_count": 13,
   "id": "relevant-carolina",
   "metadata": {},
   "outputs": [],
   "source": [
    "feature_names = tfidf.get_feature_names()"
   ]
  },
  {
   "cell_type": "code",
   "execution_count": 14,
   "id": "attractive-strip",
   "metadata": {},
   "outputs": [],
   "source": [
    "X_train = pd.DataFrame(bag_of_words.toarray(), columns = feature_names)"
   ]
  },
  {
   "cell_type": "code",
   "execution_count": 15,
   "id": "naval-oasis",
   "metadata": {},
   "outputs": [],
   "source": [
    "classifier = LogisticRegression(random_state=0)"
   ]
  },
  {
   "cell_type": "code",
   "execution_count": 16,
   "id": "polished-mills",
   "metadata": {},
   "outputs": [
    {
     "data": {
      "text/plain": [
       "LogisticRegression(random_state=0)"
      ]
     },
     "execution_count": 16,
     "metadata": {},
     "output_type": "execute_result"
    }
   ],
   "source": [
    "classifier.fit(X_train, y_train)"
   ]
  },
  {
   "cell_type": "code",
   "execution_count": 17,
   "id": "under-apartment",
   "metadata": {},
   "outputs": [],
   "source": [
    "words_for_check = tfidf.transform(valid_texts)"
   ]
  },
  {
   "cell_type": "code",
   "execution_count": 18,
   "id": "lasting-combination",
   "metadata": {},
   "outputs": [],
   "source": [
    "feature_names1 = tfidf.get_feature_names()"
   ]
  },
  {
   "cell_type": "code",
   "execution_count": 19,
   "id": "meaning-output",
   "metadata": {},
   "outputs": [],
   "source": [
    "KEK = pd.DataFrame(words_for_check.toarray(), columns = feature_names1)"
   ]
  },
  {
   "cell_type": "code",
   "execution_count": 20,
   "id": "encouraging-counter",
   "metadata": {},
   "outputs": [],
   "source": [
    "KEK = tfidf.transform(valid_texts)"
   ]
  },
  {
   "cell_type": "code",
   "execution_count": 21,
   "id": "parliamentary-looking",
   "metadata": {},
   "outputs": [],
   "source": [
    "prediction = classifier.predict(KEK)"
   ]
  },
  {
   "cell_type": "code",
   "execution_count": 25,
   "id": "maritime-garden",
   "metadata": {},
   "outputs": [],
   "source": [
    "ok=0\n",
    "a=[]\n",
    "i=0\n",
    "for predict in prediction:\n",
    "    a.append(predict)\n",
    "for y in y_valid:\n",
    "    if a[i]==y:\n",
    "        ok+=1\n",
    "    i+=1"
   ]
  },
  {
   "cell_type": "code",
   "execution_count": 26,
   "id": "secondary-virgin",
   "metadata": {},
   "outputs": [
    {
     "name": "stdout",
     "output_type": "stream",
     "text": [
      "0.6591610605461021\n"
     ]
    }
   ],
   "source": [
    "print(ok/i)"
   ]
  },
  {
   "cell_type": "code",
   "execution_count": null,
   "id": "accompanied-mustang",
   "metadata": {},
   "outputs": [],
   "source": []
  }
 ],
 "metadata": {
  "kernelspec": {
   "display_name": "Python 3",
   "language": "python",
   "name": "python3"
  },
  "language_info": {
   "codemirror_mode": {
    "name": "ipython",
    "version": 3
   },
   "file_extension": ".py",
   "mimetype": "text/x-python",
   "name": "python",
   "nbconvert_exporter": "python",
   "pygments_lexer": "ipython3",
   "version": "3.8.3"
  }
 },
 "nbformat": 4,
 "nbformat_minor": 5
}

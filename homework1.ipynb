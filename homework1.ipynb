{
 "cells": [
  {
   "cell_type": "markdown",
   "metadata": {},
   "source": [
    "######    Первая задача"
   ]
  },
  {
   "cell_type": "code",
   "execution_count": 26,
   "metadata": {
    "scrolled": true
   },
   "outputs": [
    {
     "name": "stdout",
     "output_type": "stream",
     "text": [
      "34\n"
     ]
    }
   ],
   "source": [
    "n=int(input())"
   ]
  },
  {
   "cell_type": "code",
   "execution_count": 28,
   "metadata": {},
   "outputs": [
    {
     "name": "stdout",
     "output_type": "stream",
     "text": [
      "1\n",
      "1\n",
      "2\n",
      "3\n",
      "5\n",
      "8\n",
      "13\n",
      "21\n",
      "34\n"
     ]
    }
   ],
   "source": [
    "if(n>=1):\n",
    "    a=[1,1]\n",
    "    print (1)\n",
    "    print (1)\n",
    "    i=1\n",
    "    while (a[0]+a[1])<= n:\n",
    "        i+=1\n",
    "        a[i%2]=a[0]+a[1]\n",
    "        print (a[i%2])"
   ]
  },
  {
   "cell_type": "markdown",
   "metadata": {},
   "source": [
    "#####  Вторая задача"
   ]
  },
  {
   "cell_type": "code",
   "execution_count": 59,
   "metadata": {},
   "outputs": [],
   "source": [
    "def print_fib (a, b, maxi):\n",
    "    if (a<=maxi) & (b>maxi):\n",
    "        print (a)\n",
    "    elif (b<=maxi):\n",
    "        kor = [a,b]\n",
    "        print (a)\n",
    "        print (b)\n",
    "        i=1\n",
    "        while (kor[0]+kor[1])<= maxi:\n",
    "            i+=1\n",
    "            kor[i%2]=kor[0]+kor[1]\n",
    "            print (kor[i%2])"
   ]
  },
  {
   "cell_type": "code",
   "execution_count": 60,
   "metadata": {},
   "outputs": [
    {
     "name": "stdout",
     "output_type": "stream",
     "text": [
      "first?\n",
      "5\n",
      "second?\n",
      "5\n",
      "max value?\n",
      "130\n"
     ]
    }
   ],
   "source": [
    "print ('first?')\n",
    "a1=int (input())\n",
    "print ('second?')\n",
    "a2=int (input())\n",
    "print ('max value?')\n",
    "m=int (input())"
   ]
  },
  {
   "cell_type": "code",
   "execution_count": 61,
   "metadata": {},
   "outputs": [
    {
     "name": "stdout",
     "output_type": "stream",
     "text": [
      "5\n",
      "5\n",
      "10\n",
      "15\n",
      "25\n",
      "40\n",
      "65\n",
      "105\n"
     ]
    }
   ],
   "source": [
    "print_fib(a1, a2, m)"
   ]
  },
  {
   "cell_type": "markdown",
   "metadata": {},
   "source": [
    "#####  Третья задача"
   ]
  },
  {
   "cell_type": "code",
   "execution_count": 64,
   "metadata": {},
   "outputs": [
    {
     "name": "stdout",
     "output_type": "stream",
     "text": [
      "10\n"
     ]
    }
   ],
   "source": [
    "n=int(input())"
   ]
  },
  {
   "cell_type": "code",
   "execution_count": 72,
   "metadata": {},
   "outputs": [
    {
     "name": "stdout",
     "output_type": "stream",
     "text": [
      "1\n",
      "2\n",
      "3\n",
      "4\n",
      "5\n",
      "10\n",
      "9\n",
      "8\n",
      "7\n",
      "6\n"
     ]
    }
   ],
   "source": [
    "v=[0]*n\n",
    "for i in range (n):\n",
    "    v[i]=int(input())"
   ]
  },
  {
   "cell_type": "code",
   "execution_count": 75,
   "metadata": {},
   "outputs": [
    {
     "name": "stdout",
     "output_type": "stream",
     "text": [
      "1\n",
      "2\n",
      "3\n",
      "4\n",
      "5\n",
      "6\n",
      "7\n",
      "8\n",
      "9\n",
      "10\n"
     ]
    }
   ],
   "source": [
    "#### elderly puzyrek\n",
    "for i in range (n-1):\n",
    "    for j in range (i+1, n):\n",
    "        if v[i]>v[j]:\n",
    "            v[i], v[j] = v[j], v[i]\n",
    "for i in range (n):\n",
    "    print (v[i])"
   ]
  }
 ],
 "metadata": {
  "kernelspec": {
   "display_name": "Python 3",
   "language": "python",
   "name": "python3"
  },
  "language_info": {
   "codemirror_mode": {
    "name": "ipython",
    "version": 3
   },
   "file_extension": ".py",
   "mimetype": "text/x-python",
   "name": "python",
   "nbconvert_exporter": "python",
   "pygments_lexer": "ipython3",
   "version": "3.8.3"
  }
 },
 "nbformat": 4,
 "nbformat_minor": 4
}

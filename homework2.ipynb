{
 "cells": [
  {
   "cell_type": "markdown",
   "metadata": {},
   "source": [
    "### Уникальные символы в строке"
   ]
  },
  {
   "cell_type": "code",
   "execution_count": 5,
   "metadata": {},
   "outputs": [],
   "source": [
    "def count_unique(str):\n",
    "    d0=dict()\n",
    "    k=0\n",
    "    d=dict(zip(d0.values(),d0.keys()))\n",
    "    for i in range (len(str)):\n",
    "        flag=True\n",
    "        for j in range (k):\n",
    "            flag = flag & (d[j]!=str[i])\n",
    "        if flag:\n",
    "            d[k]=(str[i])\n",
    "            k=k+1\n",
    "    return [d,k]"
   ]
  },
  {
   "cell_type": "code",
   "execution_count": 10,
   "metadata": {},
   "outputs": [
    {
     "name": "stdout",
     "output_type": "stream",
     "text": [
      "PUT HERE YOUR LINE!\n",
      "\n",
      "hr\n",
      "\n",
      "your unique elements^:\n",
      "h  \n",
      "r  \n"
     ]
    }
   ],
   "source": [
    "print (\"PUT HERE YOUR LINE!\\n\")\n",
    "s=input()\n",
    "m=count_unique(s)\n",
    "slovar= m[0]\n",
    "n=m[1]\n",
    "print ('\\nyour unique elements^:')\n",
    "for i in range (n):\n",
    "    print (slovar[i], ' ')"
   ]
  },
  {
   "cell_type": "markdown",
   "metadata": {},
   "source": [
    "### Функция для чтения файлов"
   ]
  },
  {
   "cell_type": "code",
   "execution_count": 12,
   "metadata": {},
   "outputs": [],
   "source": [
    "def read_csv(name):\n",
    "    f=open (name, 'r')\n",
    "    flag=True\n",
    "    m=[]\n",
    "    i=0\n",
    "    for line in f:\n",
    "        if flag:\n",
    "            title_line=line\n",
    "            title=title_line.split(',')\n",
    "            flag=False\n",
    "        else:\n",
    "            cur_line=line\n",
    "            cur=cur_line.split(',')\n",
    "            m.append(cur)\n",
    "            i+=1\n",
    "    return ([title, m])"
   ]
  },
  {
   "cell_type": "markdown",
   "metadata": {},
   "source": [
    "### Титаник"
   ]
  },
  {
   "cell_type": "code",
   "execution_count": 13,
   "metadata": {},
   "outputs": [
    {
     "name": "stdout",
     "output_type": "stream",
     "text": [
      "How many people do u want to check?\n",
      "3\n",
      "TITLE:\n",
      "\n",
      "['PassengerId', 'Survived', 'Pclass', 'Name', 'Sex', 'Age', 'SibSp', 'Parch', 'Ticket', 'Fare', 'Cabin', 'Embarked\\n']\n",
      "\n",
      " PEOPLE:\n",
      "\n",
      "['1', '0', '3', '\"Braund', ' Mr. Owen Harris\"', 'male', '22', '1', '0', 'A/5 21171', '7.25', '', 'S\\n']\n",
      "\n",
      "\n",
      "['2', '1', '1', '\"Cumings', ' Mrs. John Bradley (Florence Briggs Thayer)\"', 'female', '38', '1', '0', 'PC 17599', '71.2833', 'C85', 'C\\n']\n",
      "\n",
      "\n",
      "['3', '1', '3', '\"Heikkinen', ' Miss. Laina\"', 'female', '26', '0', '0', 'STON/O2. 3101282', '7.925', '', 'S\\n']\n",
      "\n",
      "\n"
     ]
    }
   ],
   "source": [
    "box = read_csv ('titanic.csv')\n",
    "print ('How many people do u want to check?')\n",
    "n=int(input())\n",
    "print ('TITLE:\\n')\n",
    "print (box[0])\n",
    "print ('\\n PEOPLE:\\n')\n",
    "for i in range (n):\n",
    "    print (box[1][i])\n",
    "    print ('\\n')"
   ]
  },
  {
   "cell_type": "markdown",
   "metadata": {},
   "source": [
    "### Киновзгляды"
   ]
  },
  {
   "cell_type": "code",
   "execution_count": 14,
   "metadata": {},
   "outputs": [
    {
     "name": "stdout",
     "output_type": "stream",
     "text": [
      "How many people do u want to check?\n",
      "3\n",
      "TITLE:\n",
      "\n",
      "['\"Отметка времени\"', '\"Мальчик или девочка?\"', '\"Как часто тебя били в детстве?\"', '\"Оцените ваш уровень вегетарианца по 5-ти бальной шкале\"', '\"Что такое два.ч?\"', '\"Твоя ориентация?\"', '\"Погулять вечером после тяжкого рабочего дня', ' или посычевать дома?\"', '\"Как часто играешь в игры?\"', '\"Сериалы?\"', '\"А книги? \"', '\"Вы таки антисемит? \"', '\"Какой предмет ближе всего по душе?\"', '\"Как вы относитесь к аннексии Крыма?\"', '\"Владимир Путин - \"', '\"Как хорошо вы знаете английский?\"', '\"Было ли раньше лучше? \"', '\"А какие жанры фильмов любишь? \"\\n']\n",
      "\n",
      " PEOPLE:\n",
      "\n",
      "['\"2019/06/09 11:22:10 PM GMT+5\"', '\"Девочка\"', '\"Не били\"', '\"2\"', '\"Не знаю\"', '\"Гетеро\"', '\"Сычевать\"', '\"1\"', '\"1\"', '\"3\"', '\"Нет\"', '\"Литература\"', '\"Положительно\"', '\"Краб\"', '\"Чуть лучше', ' чем ничего\"', '\"Нет\"', '\"Детектив;Аниме;Драма;Комедия;Исторический фильм;Трагедия;Фантастика\"\\n']\n",
      "\n",
      "\n",
      "['\"2019/06/09 11:27:42 PM GMT+5\"', '\"Мальчик\"', '\"Разве что по делу\"', '\"2\"', '\"Ненавижу Абу\"', '\"Гетеро\"', '\"Сычевать\"', '\"3\"', '\"1\"', '\"2\"', '\"Нет\"', '\"Матеша\"', '\"Мне всё равно\"', '\"человек\"', '\"Хорошо\"', '\"Нет\"', '\"Детектив;Трагедия;Фильм ужасов;Фантастика\"\\n']\n",
      "\n",
      "\n",
      "['\"2019/06/09 11:30:06 PM GMT+5\"', '\"Девочка\"', '\"Разве что по делу\"', '\"2\"', '\"Паблик в вк\"', '\"Гетеро\"', '\"Гулять\"', '\"0\"', '\"1\"', '\"3\"', '\"Нет\"', '\"Информатика\"', '\"Мне всё равно\"', '\"Политик', ' лидер и боец\"', '\"Хорошо\"', '\"Нет\"', '\"Боевик;Детектив;Комедия;Мелодрама;Фантастика\"\\n']\n",
      "\n",
      "\n"
     ]
    }
   ],
   "source": [
    "box = read_csv ('Киновзгляды.csv')\n",
    "print ('How many people do u want to check?')\n",
    "n=int(input())\n",
    "print ('TITLE:\\n')\n",
    "print (box[0])\n",
    "print ('\\n PEOPLE:\\n')\n",
    "for i in range (n):\n",
    "    print (box[1][i])\n",
    "    print ('\\n')"
   ]
  }
 ],
 "metadata": {
  "kernelspec": {
   "display_name": "Python 3",
   "language": "python",
   "name": "python3"
  },
  "language_info": {
   "codemirror_mode": {
    "name": "ipython",
    "version": 3
   },
   "file_extension": ".py",
   "mimetype": "text/x-python",
   "name": "python",
   "nbconvert_exporter": "python",
   "pygments_lexer": "ipython3",
   "version": "3.8.3"
  }
 },
 "nbformat": 4,
 "nbformat_minor": 4
}

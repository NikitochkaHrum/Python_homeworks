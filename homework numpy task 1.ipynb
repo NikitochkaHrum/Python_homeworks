{
 "cells": [
  {
   "cell_type": "markdown",
   "metadata": {},
   "source": [
    "### 1"
   ]
  },
  {
   "cell_type": "code",
   "execution_count": 2,
   "metadata": {},
   "outputs": [],
   "source": [
    "import numpy as np"
   ]
  },
  {
   "cell_type": "code",
   "execution_count": 3,
   "metadata": {},
   "outputs": [
    {
     "name": "stdout",
     "output_type": "stream",
     "text": [
      "5\n"
     ]
    }
   ],
   "source": [
    "n= int(input())"
   ]
  },
  {
   "cell_type": "code",
   "execution_count": 4,
   "metadata": {},
   "outputs": [],
   "source": [
    "matrix = np.identity(n, dtype=np.int8)"
   ]
  },
  {
   "cell_type": "code",
   "execution_count": 5,
   "metadata": {},
   "outputs": [
    {
     "name": "stdout",
     "output_type": "stream",
     "text": [
      "[[1 0 0 0 0]\n",
      " [0 1 0 0 0]\n",
      " [0 0 1 0 0]\n",
      " [0 0 0 1 0]\n",
      " [0 0 0 0 1]]\n"
     ]
    }
   ],
   "source": [
    "print(matrix)"
   ]
  },
  {
   "cell_type": "code",
   "execution_count": 6,
   "metadata": {},
   "outputs": [],
   "source": [
    "for i in range(n):\n",
    "    for j in range(n):\n",
    "        matrix[i][j]=(i+j)%2"
   ]
  },
  {
   "cell_type": "code",
   "execution_count": 7,
   "metadata": {},
   "outputs": [
    {
     "data": {
      "text/plain": [
       "array([[0, 1, 0, 1, 0],\n",
       "       [1, 0, 1, 0, 1],\n",
       "       [0, 1, 0, 1, 0],\n",
       "       [1, 0, 1, 0, 1],\n",
       "       [0, 1, 0, 1, 0]], dtype=int8)"
      ]
     },
     "execution_count": 7,
     "metadata": {},
     "output_type": "execute_result"
    }
   ],
   "source": [
    "matrix"
   ]
  },
  {
   "cell_type": "markdown",
   "metadata": {},
   "source": [
    "### 2"
   ]
  },
  {
   "cell_type": "code",
   "execution_count": 8,
   "metadata": {},
   "outputs": [
    {
     "name": "stdout",
     "output_type": "stream",
     "text": [
      "1\n",
      "2\n",
      "3\n",
      "4\n",
      "5\n",
      "6\n"
     ]
    }
   ],
   "source": [
    "x1= int(input())\n",
    "y1= int(input())\n",
    "z1= int(input())\n",
    "x2= int(input())\n",
    "y2= int(input())\n",
    "z2= int(input())"
   ]
  },
  {
   "cell_type": "code",
   "execution_count": 9,
   "metadata": {},
   "outputs": [
    {
     "name": "stdout",
     "output_type": "stream",
     "text": [
      "scalar:  32\n"
     ]
    }
   ],
   "source": [
    "sc = np.dot(np.array([x1, y1, z1]), np.array([x2, y2, z2]))\n",
    "print(\"scalar: \", sc)"
   ]
  },
  {
   "cell_type": "code",
   "execution_count": 10,
   "metadata": {},
   "outputs": [
    {
     "name": "stdout",
     "output_type": "stream",
     "text": [
      "vector: [-3  6 -3]\n"
     ]
    }
   ],
   "source": [
    "ve = np.cross(np.array([x1, y1, z1]), np.array([x2, y2, z2]))\n",
    "print (\"vector:\", ve)"
   ]
  },
  {
   "cell_type": "code",
   "execution_count": 11,
   "metadata": {},
   "outputs": [],
   "source": [
    "def len(a):\n",
    "    return np.sqrt(a[0]*a[0]+a[1]*a[1]+a[2]*a[2])"
   ]
  },
  {
   "cell_type": "code",
   "execution_count": 12,
   "metadata": {},
   "outputs": [
    {
     "name": "stdout",
     "output_type": "stream",
     "text": [
      "by scalar angle =  12.933154491899135\n"
     ]
    }
   ],
   "source": [
    "print (\"by scalar angle = \", np.degrees(np.arccos(sc/(len([x1, y1, z1])*len([x2, y2, z2])))))"
   ]
  },
  {
   "cell_type": "code",
   "execution_count": 13,
   "metadata": {},
   "outputs": [
    {
     "name": "stdout",
     "output_type": "stream",
     "text": [
      "by vector angle =  12.93315449189912\n"
     ]
    }
   ],
   "source": [
    "print (\"by vector angle = \", np.degrees(np.arcsin(len(ve)/(len([x1, y1, z1])*len([x2, y2, z2])))))"
   ]
  },
  {
   "cell_type": "markdown",
   "metadata": {},
   "source": [
    "### 3"
   ]
  },
  {
   "cell_type": "code",
   "execution_count": 14,
   "metadata": {},
   "outputs": [],
   "source": [
    "import random"
   ]
  },
  {
   "cell_type": "code",
   "execution_count": 23,
   "metadata": {},
   "outputs": [],
   "source": [
    "m1 = np.full(shape =(4, 4), fill_value =int(random.random()*100))\n",
    "m2 = np.full(shape =(4, 4), fill_value =int(random.random()*100))"
   ]
  },
  {
   "cell_type": "code",
   "execution_count": 29,
   "metadata": {},
   "outputs": [
    {
     "name": "stdout",
     "output_type": "stream",
     "text": [
      "[[ 0 12 56 12]\n",
      " [52 48  0 40]\n",
      " [96 44 92 80]\n",
      " [24 80 92 16]]\n",
      "[[50 28 56 20]\n",
      " [36 60 44 56]\n",
      " [36 44 48 84]\n",
      " [56  0 40 30]]\n"
     ]
    }
   ],
   "source": [
    "m1,m2=m2,m1\n",
    "for i in range(4):\n",
    "    for j in range(4):\n",
    "        m1[i][j]=(m1[i][j]*int(random.random()*100))%100\n",
    "        m2[i][j]=(m2[i][j]*int(random.random()*100))%100\n",
    "print(m1)\n",
    "print(m2)"
   ]
  },
  {
   "cell_type": "code",
   "execution_count": 36,
   "metadata": {},
   "outputs": [
    {
     "name": "stdout",
     "output_type": "stream",
     "text": [
      "[ 0 12 56 12 52 48  0 40 96 44 92 80 24 80 92 16] [50 28 56 20 36 60 44 56 36 44 48 84 56  0 40 30]\n"
     ]
    }
   ],
   "source": [
    "arr1 = np.ravel(m1)\n",
    "arr2 = np.ravel(m2)"
   ]
  },
  {
   "cell_type": "code",
   "execution_count": 38,
   "metadata": {},
   "outputs": [
    {
     "name": "stdout",
     "output_type": "stream",
     "text": [
      "{0, 40, 44, 48, 56}\n"
     ]
    }
   ],
   "source": [
    "res = {i for i in arr1 if np.isclose(arr2, i, 0.0001).any()}\n",
    "print(res)"
   ]
  },
  {
   "cell_type": "markdown",
   "metadata": {},
   "source": [
    "### 4"
   ]
  },
  {
   "cell_type": "code",
   "execution_count": 40,
   "metadata": {},
   "outputs": [
    {
     "name": "stdout",
     "output_type": "stream",
     "text": [
      "[-2.88362205  0.36433127 -0.04482338  4.01151115]\n"
     ]
    }
   ],
   "source": [
    "b=m2[0]\n",
    "a=m1\n",
    "print(np.linalg.solve(a, b))"
   ]
  }
 ],
 "metadata": {
  "kernelspec": {
   "display_name": "Python 3",
   "language": "python",
   "name": "python3"
  },
  "language_info": {
   "codemirror_mode": {
    "name": "ipython",
    "version": 3
   },
   "file_extension": ".py",
   "mimetype": "text/x-python",
   "name": "python",
   "nbconvert_exporter": "python",
   "pygments_lexer": "ipython3",
   "version": "3.8.3"
  }
 },
 "nbformat": 4,
 "nbformat_minor": 4
}
